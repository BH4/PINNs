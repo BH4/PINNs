{
 "cells": [
  {
   "cell_type": "code",
   "execution_count": null,
   "id": "8663479f",
   "metadata": {},
   "outputs": [],
   "source": [
    "from jax import random\n",
    "import jax.numpy as np\n",
    "from optax import adam, cosine_decay_schedule\n",
    "from jaxopt import OptaxSolver\n",
    "\n",
    "from pinns import ivps, training"
   ]
  },
  {
   "cell_type": "code",
   "execution_count": null,
   "id": "cea7b9b0",
   "metadata": {},
   "outputs": [],
   "source": [
    "fname = 'advection'\n",
    "model = ivps.advection(width=64, depth=5, w0=8)"
   ]
  },
  {
   "cell_type": "code",
   "execution_count": null,
   "id": "3e050159",
   "metadata": {},
   "outputs": [],
   "source": [
    "nIter = 1*10**5\n",
    "lr = cosine_decay_schedule(1e-03, nIter)\n",
    "optimizer = OptaxSolver(fun=model.loss, opt=adam(lr))\n",
    "\n",
    "Nt, Nx = 128, 128\n",
    "domain_tr = (model.T * np.linspace(0,1, Nt),\n",
    "             model.X * np.linspace(*model.x_bd, Nx))\n",
    "\n",
    "init_key, train_key = random.split(random.PRNGKey(0))\n",
    "init_params = model.init(init_key)"
   ]
  },
  {
   "cell_type": "code",
   "execution_count": null,
   "id": "a33fe2e9",
   "metadata": {},
   "outputs": [],
   "source": [
    "training.train(model, optimizer, domain_tr, train_key, init_params, nIter=nIter)\n",
    "training.drawing(model, save=False)"
   ]
  }
 ],
 "metadata": {
  "kernelspec": {
   "display_name": "jaxenv",
   "language": "python",
   "name": "python3"
  },
  "language_info": {
   "codemirror_mode": {
    "name": "ipython",
    "version": 3
   },
   "file_extension": ".py",
   "mimetype": "text/x-python",
   "name": "python",
   "nbconvert_exporter": "python",
   "pygments_lexer": "ipython3",
   "version": "3.11.3"
  },
  "vscode": {
   "interpreter": {
    "hash": "865acb46bc06173ba894e7fbe8e57d6a1e6f5ddbdf01a7784e7f4686fd1a4aa0"
   }
  }
 },
 "nbformat": 4,
 "nbformat_minor": 5
}
